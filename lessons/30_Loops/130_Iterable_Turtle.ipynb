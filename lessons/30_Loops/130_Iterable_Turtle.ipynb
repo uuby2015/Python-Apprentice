{
  "cells": [
    {
      "cell_type": "code",
      "execution_count": null,
      "metadata": {},
      "outputs": [],
      "source": [
        "\"\"\"\n",
        "Programmable turtle graphics\n",
        "\n",
        "Use what you've learned about lists, loop, cycle, slice and zip to draw a pattern\n",
        "\n",
        "\"\"\"\n",
        "\n",
        "t = ... # Create a turtle like in previous programs, like 04_Crazy_Tina.py\n",
        "\n",
        "colors = ... # Make a list of colors\n",
        "\n",
        "directions = [ # Create a list of directions and angles\n",
        "    ( <angle>, <distance> ),\n",
        "    ( <angle>, <distance> ), ... # Add more\n",
        "]\n",
        "\n",
        "# Zip the colors and directions together, then unpack them. THere is a good example of this\n",
        "# in 10_More_iterables.ipynb in the discussion of zip()\n",
        "\n",
        "for ... in zip( ... , ...):\n",
        "    t.color( ... )\n",
        "    t.forward( ... )\n",
        "    t.left( ... )\n",
        "\n",
        "\n",
        "# Don't forget the special way to end a turtle program. \n"
      ]
    }
  ],
  "metadata": {
    "kernelspec": {
      "display_name": "Python 3",
      "language": "python",
      "name": "python3"
    },
    "language_info": {
      "name": "python",
      "version": "3.12.11"
    },
    "syllabus": {
      "uid": "vTyp2WhX"
    }
  },
  "nbformat": 4,
  "nbformat_minor": 2
}
