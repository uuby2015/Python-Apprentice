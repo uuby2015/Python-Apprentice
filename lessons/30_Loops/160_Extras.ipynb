{
  "cells": [
    {
      "cell_type": "markdown",
      "metadata": {},
      "source": [
        "# Extras\n",
        "\n",
        "Here are some interesting things related to the lessons, very advanced and completely optional. "
      ]
    },
    {
      "cell_type": "markdown",
      "metadata": {},
      "source": [
        "#  Yet More FizzBuzz\n",
        "\n",
        "It is possible to write a version of FizzBuzz that is even shorter than the one we wrote in the previous lesson. This version uses a list comprehension to generate the list of strings. Here is the code:\n"
      ]
    },
    {
      "cell_type": "code",
      "execution_count": null,
      "metadata": {},
      "outputs": [],
      "source": [
        "fb = ['fizz'*(i%3==0) + 'buzz'*(i%5==0) or str(i) for i in range(1,101)]\n",
        "print(fb)\n",
        "\n"
      ]
    },
    {
      "cell_type": "markdown",
      "metadata": {},
      "source": [
        "This version is very peculiar because it uses $n^4 \\mod 15$. See this page [for an explaination. ](http://philcrissman.net/posts/eulers-fizzbuzz/)"
      ]
    },
    {
      "cell_type": "code",
      "execution_count": null,
      "metadata": {},
      "outputs": [],
      "source": [
        "fb = [(lambda n: { 1: n, 6: \"Fizz\", 10: \"Buzz\", 0: \"FizzBuzz\" }[n**4%15])(n) for n in range(1,101)]\n",
        "print(fb)\n"
      ]
    },
    {
      "cell_type": "code",
      "execution_count": null,
      "metadata": {},
      "outputs": [],
      "source": [
        "print(list(set(\"Once upon a time a 👦 with a 🐕 met a 👧 who had a 🐈 and they went to the park to play with a ⚽.\".split())))"
      ]
    },
    {
      "cell_type": "code",
      "execution_count": null,
      "metadata": {},
      "outputs": [],
      "source": [
        "print(list()))"
      ]
    }
  ],
  "metadata": {
    "kernelspec": {
      "display_name": "Python 3",
      "language": "python",
      "name": "python3"
    },
    "language_info": {
      "codemirror_mode": {
        "name": "ipython",
        "version": 3
      },
      "file_extension": ".py",
      "mimetype": "text/x-python",
      "name": "python",
      "nbconvert_exporter": "python",
      "pygments_lexer": "ipython3",
      "version": "3.12.11"
    },
    "syllabus": {
      "uid": "VJSgvOr5"
    }
  },
  "nbformat": 4,
  "nbformat_minor": 2
}
