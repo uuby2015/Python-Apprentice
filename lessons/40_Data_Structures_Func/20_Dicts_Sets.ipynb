{
  "cells": [
    {
      "cell_type": "markdown",
      "metadata": {},
      "source": [
        "# Data Structures\n",
        "\n",
        "We've seen a lot of data structures so far, but we haven't put them all together. So far we've seen: \n",
        "\n",
        "* Lists. A list of items. \n",
        "* Tuples. Like a list, but can't be changed after it is created. ( it's \"immutable\" )\n",
        "* Strings. Like a list, but always made of characters, and is also \"immutable\"\n",
        "\n",
        "Lets introduce a new one: the `set`. A set is important because it works a bit\n",
        "like a list, except:\n",
        "\n",
        "* You create a set with \"{}\" instead of \"[]\"\n",
        "* Each item can only be in a set once. \n",
        "* The items in a set are not ordered. \n",
        "\n",
        "If you put multiple items into a set, it will only store one of each, and if you\n",
        "iterate over the items in a list, they aren't guaranteed to be in the same order\n",
        "you put them in. Let's compare a set and a list. \n"
      ]
    },
    {
      "cell_type": "code",
      "execution_count": 1,
      "metadata": {},
      "outputs": [
        {
          "name": "stdout",
          "output_type": "stream",
          "text": [
            "['a', 'a', 'b', 'b', 'c', 'c']\n",
            "{'a', 'b', 'c'}\n"
          ]
        }
      ],
      "source": [
        "l = ['a','a','b','b','c','c']\n",
        "print(l)\n",
        "\n",
        "s = { 'a','a','b','b','c','c'}\n",
        "print(s)"
      ]
    },
    {
      "cell_type": "markdown",
      "metadata": {},
      "source": [
        "Notice that the list kept all of the items we put into it, and they are in the\n",
        "same order, but the set removed the duplicates, and they are in a different\n",
        "order. \n",
        "\n",
        "The formal name of these objects, string, set, list and tuple, are \"Collections\".\n",
        "\n",
        "\n",
        "# Creating Sets, Lists, Tuples\n",
        "\n",
        "So far we've seen one way for creating collections, using the braces, poarentheses and quotes: \n",
        "\n",
        "```python\n",
        "\n",
        "c = \"123\"\n",
        "t = (1,2,3)\n",
        "l = [1,2,3]\n",
        "s = {1,2,3}\n",
        "\n",
        "\n",
        "```\n",
        "\n",
        "But, there is another way! You can also use the 'constructor' function.  Here is how we can create empty collections :\n",
        "\n",
        "```python \n",
        "c = str()\n",
        "t = tuple()\n",
        "l = list()\n",
        "s = set()\n",
        "\n",
        "```\n",
        "\n",
        "These functions all can take one argument, an iterator, and that iterator can be\n",
        "another set, list tuple. This means that you can easily convert between them. \n"
      ]
    },
    {
      "cell_type": "code",
      "execution_count": null,
      "metadata": {},
      "outputs": [],
      "source": [
        "c = \"Hello\"\n",
        "l = ['a','a','b','b','c','c']\n",
        "\n",
        "# Make a tuple from a list\n",
        "t = tuple(l)\n",
        "print(t)\n",
        "\n",
        "# Make a set from a list\n",
        "s = set(l)\n",
        "print(s)\n",
        "\n",
        "# Make a list from a string\n",
        "a = list(c)\n",
        "print(a)\n",
        "\n",
        "# Get the unique items from a list, by converting it to a set\n",
        "# and then back to a list\n",
        "print(list(set(l)))\n"
      ]
    },
    {
      "cell_type": "markdown",
      "metadata": {},
      "source": [
        "When you create an empty collection, you can sometimes add items to the\n",
        "collection. Lists and sets are \"mutable\", which means they can be changed.\n",
        "Tuples and strings are immutable, they cannot be changed after they are created.\n",
        "However, you can \"concatenate\" to immutable objects to create new ones. "
      ]
    },
    {
      "cell_type": "code",
      "execution_count": null,
      "metadata": {},
      "outputs": [],
      "source": [
        "# Adding to mutable collections\n",
        "\n",
        "l = list()\n",
        "l.append('a')\n",
        "l.append('b')\n",
        "l.append('c')\n",
        "print(l)\n",
        "\n",
        "s = set()\n",
        "s.add('a')\n",
        "s.add('b')\n",
        "s.add('c')\n",
        "print(s)\n",
        "\n",
        "# Concatenating immutable collections to create new objects\n",
        "\n",
        "t = tuple()\n",
        "t = t + ('a',) # Note the comma, this is a tuple with one element\n",
        "t = t + ('b',)\n",
        "t = t + ('c',)\n",
        "print(t)\n",
        "\n",
        "s = \"\"\n",
        "s = s + \"a\"\n",
        "s = s + \"b\"\n",
        "s = s + \"c\"\n",
        "print(s)\n",
        "\n"
      ]
    },
    {
      "cell_type": "markdown",
      "metadata": {},
      "source": [
        "When we write `s = s + 'a'` this means:\n",
        "\n",
        "1. Combine `s` and \"a\" to get a new string\n",
        "2. Assign that new string back to s\n",
        "\n",
        "This operation will destroy the old `s` and create a new one with the same name.\n",
        "This is very different that using `list.append()` or `set.add()` because those\n",
        "methods keep the same list and set and just add to it. \n"
      ]
    },
    {
      "cell_type": "markdown",
      "metadata": {},
      "source": [
        "## Dictionaries\n",
        "\n",
        "You know what a dictionary is, right? It has words and definitions, and you look\n",
        "up the words to find the definitions. Here is how we create a dictionary in\n",
        "Python: "
      ]
    },
    {
      "cell_type": "code",
      "execution_count": null,
      "metadata": {},
      "outputs": [],
      "source": [
        "# Dictionary example\n",
        "\n",
        "# A dictionary of words for superior people\n",
        "\n",
        "superior_words = {\n",
        "    \"abecedarian\": \"a person who is learning the alphabet\",\n",
        "    \"blandishment\": \"flattering speech or actions designed to persuade\",\n",
        "    \"cacophony\": \"a harsh, discordant mixture of sounds\",\n",
        "    \"defenestration\": \"the act of throwing someone out of a window\",\n",
        "    \"egregious\": \"outstandingly bad; shocking\",\n",
        "    \"flagitious\": \"criminal; villainous\",\n",
        "    \"grandiloquent\": \"pompous or extravagant in language, style, or manner\",\n",
        "    \"hirsute\": \"hairy\",\n",
        "    \"ignominious\": \"deserving or causing public disgrace or shame\",\n",
        "    \"juxtapose\": \"to place side by side for contrast or comparison\",\n",
        "    \"sesquipedalian\": \"given to using long words\",\n",
        "    \"xerebrose\": \"dry, uninteresting\"\n",
        "}\n",
        "\n",
        "# one way to look up a word, using the key and \"[]\"\n",
        "word = \"cacophony\"\n",
        "definition = superior_words[word]\n",
        "print(f\"{word}: {definition}\")\n",
        "\n",
        "# another way to look up a word, using `.get()`\n",
        "word = \"xerebrose\"\n",
        "definition = superior_words.get(word)\n",
        "print(f\"{word}: {definition}\")\n",
        "\n"
      ]
    },
    {
      "cell_type": "markdown",
      "metadata": {},
      "source": [
        "The \"{}\" curly braces are used to create both `dict`  and `set` objects. The difference is that the `dict` definition has pairs seperated by `:`, which the set does not.  So this is a set: \n",
        "\n",
        "```python\n",
        "s = { 1, 2, 3, 4}\n",
        "```\n",
        "\n",
        "but this is a dict:\n",
        "\n",
        "```python \n",
        "d = { \n",
        "    'a': 1, \n",
        "    'b': 2,\n",
        "    'c': 3\n",
        "    }\n",
        "```\n",
        "\n",
        "And like the other containers, you can also use a constructor function and then add items:\n",
        "\n",
        "```python \n",
        "d = dict()\n",
        "d['a'] = 1\n",
        "d['b'] = 2\n",
        "d['c'] = 3\n",
        "```\n"
      ]
    },
    {
      "cell_type": "markdown",
      "metadata": {},
      "source": [
        "The dictionary has a feature like the set: its keys ( the word part of the word/definition pair ) is also unique. So if you add\n",
        "a key twice, it will only be stored once:\n",
        "\n"
      ]
    },
    {
      "cell_type": "code",
      "execution_count": null,
      "metadata": {},
      "outputs": [],
      "source": [
        "d = { \n",
        "    \"one\": 1, \n",
        "    \"one\": 10, \n",
        "    \"two\": 2,\n",
        "    \"two\": 20,\n",
        "    \"three\": 3,\n",
        "    \"three\": 30\n",
        "    }\n",
        "\n",
        "print(d) # Only stores the last value for the key"
      ]
    },
    {
      "cell_type": "markdown",
      "metadata": {},
      "source": [
        "Hmmm ... we could use constructor functions to convert between other containers ...  what happens if you try to convert a dict to another\n",
        "container type?"
      ]
    },
    {
      "cell_type": "code",
      "execution_count": null,
      "metadata": {},
      "outputs": [],
      "source": [
        "d = { \n",
        "    'a': 1, \n",
        "    'b': 2,\n",
        "    'c': 3\n",
        "    }\n",
        "\n",
        "l = list(d)\n",
        "print(l)\n"
      ]
    },
    {
      "cell_type": "markdown",
      "metadata": {},
      "source": [
        "Hmmm ... it just used they keys? What happened to the values ( the \"definitions\" ) ? Well, you\n",
        "need to use other methods to get those. Here are some of the access methods: \n",
        "\n",
        "* `dict.keys()`: Get only the keys.\n",
        "* `dict.values()`: Get only the values. \n",
        "* `dict.items()`: Get the keys and values as a collection of tuples. \n"
      ]
    },
    {
      "cell_type": "code",
      "execution_count": null,
      "metadata": {},
      "outputs": [],
      "source": [
        "# Acessing dict keys and values\n",
        "\n",
        "d = { \n",
        "    'a': 1, \n",
        "    'b': 2,\n",
        "    'c': 3\n",
        "    }\n",
        "\n",
        "print(d.keys())\n",
        "\n",
        "print(d.values())\n",
        "\n",
        "print(d.items())\n",
        "\n",
        "print()\n",
        "\n",
        "# Iterate over items in a dictionary\n",
        "\n",
        "for key, value in d.items():\n",
        "    print(f\"{key} = {value}\")\n"
      ]
    },
    {
      "cell_type": "code",
      "execution_count": null,
      "metadata": {},
      "outputs": [],
      "source": []
    },
    {
      "cell_type": "markdown",
      "metadata": {},
      "source": [
        "Pay attention to this idiom: \n",
        "\n",
        "```python \n",
        "for key, value in d.items():\n",
        "    print(f\"{key} = {value}\")\n",
        "```\n",
        "\n",
        "This is one of the very common operations with a dict, iterating over keys and\n",
        "values. You should also know how to get an index for the iteration, using\n",
        "`enumerate()`:\n"
      ]
    },
    {
      "cell_type": "code",
      "execution_count": 2,
      "metadata": {},
      "outputs": [
        {
          "ename": "NameError",
          "evalue": "name 'd' is not defined",
          "output_type": "error",
          "traceback": [
            "\u001b[31m---------------------------------------------------------------------------\u001b[39m",
            "\u001b[31mNameError\u001b[39m                                 Traceback (most recent call last)",
            "\u001b[36mCell\u001b[39m\u001b[36m \u001b[39m\u001b[32mIn[2]\u001b[39m\u001b[32m, line 3\u001b[39m\n\u001b[32m      1\u001b[39m \u001b[38;5;66;03m# Enumerate keys and values\u001b[39;00m\n\u001b[32m----> \u001b[39m\u001b[32m3\u001b[39m \u001b[38;5;28;01mfor\u001b[39;00m index, (key, value) \u001b[38;5;129;01min\u001b[39;00m \u001b[38;5;28menumerate\u001b[39m(\u001b[43md\u001b[49m.items()):\n\u001b[32m      4\u001b[39m     \u001b[38;5;28mprint\u001b[39m(\u001b[33mf\u001b[39m\u001b[33m\"\u001b[39m\u001b[33m#\u001b[39m\u001b[38;5;132;01m{\u001b[39;00mindex\u001b[38;5;132;01m}\u001b[39;00m\u001b[33m \u001b[39m\u001b[38;5;132;01m{\u001b[39;00mkey\u001b[38;5;132;01m}\u001b[39;00m\u001b[33m = \u001b[39m\u001b[38;5;132;01m{\u001b[39;00mvalue\u001b[38;5;132;01m}\u001b[39;00m\u001b[33m\"\u001b[39m)\n",
            "\u001b[31mNameError\u001b[39m: name 'd' is not defined"
          ]
        }
      ],
      "source": [
        "# Enumerate keys and values\n",
        "\n",
        "for index, (key, value) in enumerate(d.items()):\n",
        "    print(f\"#{index} {key} = {value}\")"
      ]
    },
    {
      "cell_type": "markdown",
      "metadata": {},
      "source": [
        "## Removing items\n",
        "\n",
        "You can also remove items from collections:\n"
      ]
    },
    {
      "cell_type": "code",
      "execution_count": 3,
      "metadata": {},
      "outputs": [
        {
          "name": "stdout",
          "output_type": "stream",
          "text": [
            "['a', 'b', 'd']\n",
            "{'d', 'a', 'b'}\n",
            "{'a': 1, 'b': 2}\n"
          ]
        }
      ],
      "source": [
        "l = list(\"abcd\") # Make a list of characters from a string\n",
        "\n",
        "# remove 'c':\n",
        "l.remove('c')\n",
        "print(l)\n",
        "\n",
        "s = set(\"abcd\")\n",
        "s.remove('c')\n",
        "print(s)\n",
        "\n",
        "d = { \n",
        "    'a': 1, \n",
        "    'b': 2,\n",
        "    'c': 3\n",
        "    }\n",
        "\n",
        "# To remove from a dict, use `del`\n",
        "del d['c']\n",
        "print(d)"
      ]
    },
    {
      "cell_type": "markdown",
      "metadata": {},
      "source": [
        "# Is it in there?\n",
        "\n",
        "You can use `in` to see if an item is in a collection. Use `not in` to check if it is not in the collection. "
      ]
    },
    {
      "cell_type": "code",
      "execution_count": 1,
      "metadata": {},
      "outputs": [
        {
          "name": "stdout",
          "output_type": "stream",
          "text": [
            "True False True\n",
            "True False True\n",
            "True False True\n"
          ]
        }
      ],
      "source": [
        "# Check existence\n",
        "\n",
        "l = list(\"abcd\")\n",
        "\n",
        "print( 'a' in l, 'f' in l, 'g' not in l) # 'a' is in, but 'f' is not\n",
        "\n",
        "s = set(l)\n",
        "\n",
        "print( 'a' in s, 'f' in s, 'g' not in s) \n",
        "\n",
        "d = { \n",
        "    'a': 1, \n",
        "    'b': 2,\n",
        "    'c': 3\n",
        "    }\n",
        "\n",
        "\n",
        "print( 'a' in d, 'f' in d, 'g' not in d) # For dicts, in check the existence of the key"
      ]
    },
    {
      "cell_type": "markdown",
      "metadata": {},
      "source": [
        "# Test Yourself\n",
        "\n",
        "Write a function, `check_funny_words(sentence)` to check if any of these words are in a sentence:\n",
        "\n",
        "* snollygoster\n",
        "* skedaddle\n",
        "* lollygag\n",
        "* collywobble\n",
        "\n",
        "If the stentence has funny words, return \"Funny\" and a list of the funny word.\n",
        "If not, return \"not funny\"\n",
        "\n",
        "Write a loop to call your function on each of the sentences in `funny_sentences`\n",
        "and print the return value of the function \n"
      ]
    },
    {
      "cell_type": "code",
      "execution_count": null,
      "metadata": {},
      "outputs": [],
      "source": [
        "funny_sentences = [\n",
        "    \"The snollygoster tried to skedaddle before anyone noticed his mischief.\",\n",
        "    \"After a day of lollygagging, the children suddenly got the collywobbles from all the candy.\",\n",
        "    \"A kerfuffle broke out when the gobbledygook in the instructions confused everyone.\",\n",
        "    \"The politician was such a snollygoster that he could bamboozle anyone without breaking a sweat.\",\n",
        "    \"The nincompoop tried to bamboozle everyone with his ridiculous story.\",\n",
        "\n",
        "    \"We decided to skedaddle from the park when we saw the kids starting to lollygag near the mud puddles.\",\n",
        "    \"The sudden collywobbles made him want to skedaddle from the roller coaster line.\",\n",
        "    \"The teacher was flummoxed by the students' whippersnapper antics during the lesson.\"\n",
        "]\n",
        "\n",
        "def check_funny_words(sentence):\n",
        "    \"\"\"\n",
        "    Checks if any funny words are present in the given sentence.\n",
        "\n",
        "    Args:\n",
        "        sentence (str): The sentence to check for funny words.\n",
        "\n",
        "    Returns:\n",
        "        str: If funny words are found, returns a string with the funny words separated by commas.\n",
        "             If no funny words are found, returns \"Not funny\".\n",
        "    \"\"\"\n",
        "    \n",
        "    # IMPLEMENT ME!\n",
        "\n",
        "\n",
        "for s in funny_sentences:\n",
        "    print(check_funny_words(s))\n"
      ]
    },
    {
      "cell_type": "markdown",
      "metadata": {},
      "source": [
        "# How big is it?\n",
        "\n",
        "Use `len()` to see how many items are in a collection.\n"
      ]
    },
    {
      "cell_type": "code",
      "execution_count": null,
      "metadata": {},
      "outputs": [],
      "source": [
        "c = \"Hello\"\n",
        "l = list(c) # Make a list of characters from a string\n",
        "\n",
        "print(len(c), len(l))\n",
        "\n",
        "d = { \n",
        "    'a': 1, \n",
        "    'b': 2,\n",
        "    'c': 3\n",
        "    }\n",
        "\n",
        "print(len(d))\n"
      ]
    },
    {
      "cell_type": "markdown",
      "metadata": {},
      "source": [
        "# Sorting collections\n",
        "\n",
        "Sorting puts the items in the collection into order. For numbers, that means\n",
        "numerical order, and for string, alphabetic order. You can sort lists, but for\n",
        "immutable collections you will produce a new collection that is sorted, while\n",
        "the original collection will remain unsorted. \n"
      ]
    },
    {
      "cell_type": "code",
      "execution_count": null,
      "metadata": {},
      "outputs": [],
      "source": [
        "l = list(\"gqycprc\")\n",
        "\n",
        "# Sort the list\n",
        "l.sort()\n",
        "print(l)\n",
        "\n",
        "# Use the sorted function to return a new sorted list\n",
        "l = list(\"gqycprc\")\n",
        "sorted_l = sorted(l)\n",
        "print(l)\n",
        "print(sorted_l)\n"
      ]
    },
    {
      "cell_type": "code",
      "execution_count": null,
      "metadata": {},
      "outputs": [],
      "source": []
    }
  ],
  "metadata": {
    "kernelspec": {
      "display_name": "Python 3",
      "language": "python",
      "name": "python3"
    },
    "language_info": {
      "codemirror_mode": {
        "name": "ipython",
        "version": 3
      },
      "file_extension": ".py",
      "mimetype": "text/x-python",
      "name": "python",
      "nbconvert_exporter": "python",
      "pygments_lexer": "ipython3",
      "version": "3.12.11"
    },
    "syllabus": {
      "uid": "VXQdZcqg"
    }
  },
  "nbformat": 4,
  "nbformat_minor": 2
}
